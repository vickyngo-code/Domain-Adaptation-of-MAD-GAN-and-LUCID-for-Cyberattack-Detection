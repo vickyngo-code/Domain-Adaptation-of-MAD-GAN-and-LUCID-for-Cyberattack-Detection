{
 "cells": [
  {
   "cell_type": "code",
   "execution_count": null,
   "metadata": {
    "id": "7D3r98t-X_Di"
   },
   "outputs": [],
   "source": [
    "import os\n",
    "import sklearn\n",
    "os.environ['CUDA_VISIBLE_DEVICES'] = \"-1\"\n",
    "import warnings\n",
    "warnings.filterwarnings('always')  # \"error\", \"ignore\", \"always\", \"default\", \"module\" or \"once\""
   ]
  },
  {
   "cell_type": "code",
   "execution_count": null,
   "metadata": {},
   "outputs": [],
   "source": [
    "from tensorflow.compat.v1 import ConfigProto\n",
    "from tensorflow.compat.v1 import InteractiveSession\n",
    "\n",
    "config = ConfigProto()\n",
    "config.gpu_options.per_process_gpu_memory_fraction = 2\n",
    "config.gpu_options.allow_growth = True\n",
    "session = InteractiveSession(config=config)"
   ]
  },
  {
   "cell_type": "code",
   "execution_count": null,
   "metadata": {},
   "outputs": [],
   "source": [
    "#cic2017 preprocses\n",
    "!python3 lucid_dataset_parser.py --dataset_type DOS2017 --dataset_folder ./cic2017-training/ --packets_per_flow 100 --dataset_id DOS2017 --traffic_type all --time_window 100"
   ]
  },
  {
   "cell_type": "code",
   "execution_count": null,
   "metadata": {
    "id": "MI-LHOrNQL5J"
   },
   "outputs": [],
   "source": [
    "#preprocess\n",
    "!python3 lucid_dataset_parser.py --preprocess_folder ./cic-processed-data/"
   ]
  },
  {
   "cell_type": "code",
   "execution_count": null,
   "metadata": {
    "scrolled": false
   },
   "outputs": [],
   "source": [
    "!python3 lucid_cnn.py --train ./cic-processed-data/  --epochs 50 --regularization l2 --dropout 0.5"
   ]
  },
  {
   "cell_type": "code",
   "execution_count": null,
   "metadata": {},
   "outputs": [],
   "source": [
    "import tensorflow as tf\n",
    "\n",
    "# Convert the model\n",
    "lucid_model = tf.keras.models.load_model(\"final-model/100t-100n-IDS201X-LUCID.h5\", compile=False)\n",
    "converter = tf.lite.TFLiteConverter.from_keras_model(lucid_model) # path to the SavedModel directory\n",
    "tflite_model = converter.convert()\n",
    "\n",
    "# Save the model.\n",
    "with open('100t-100n-IDS201X-LUCID.tflite', 'wb') as f:\n",
    "  f.write(tflite_model)"
   ]
  },
  {
   "cell_type": "code",
   "execution_count": 26,
   "metadata": {},
   "outputs": [
    {
     "name": "stderr",
     "output_type": "stream",
     "text": [
      "/home/zvd0712/miniconda3/envs/gpu/lib/python3.9/site-packages/ipykernel/ipkernel.py:287: DeprecationWarning: `should_run_async` will not call `transform_cell` automatically in the future. Please pass the result to `transformed_cell` argument and any exception that happen during thetransform in `preprocessing_exc_tuple` in IPython 7.17 and above.\n",
      "  and should_run_async(code)\n"
     ]
    },
    {
     "ename": "SyntaxError",
     "evalue": "cannot assign to operator (<ipython-input-26-5a85eb10a411>, line 1)",
     "output_type": "error",
     "traceback": [
      "\u001b[0;36m  Input \u001b[0;32mIn [26]\u001b[0;36m\u001b[0m\n\u001b[0;31m    tflite_convert \\\u001b[0m\n\u001b[0m    ^\u001b[0m\n\u001b[0;31mSyntaxError\u001b[0m\u001b[0;31m:\u001b[0m cannot assign to operator\n"
     ]
    }
   ],
   "source": [
    "# used in command line\n",
    "tflite_convert \\\n",
    "  --keras_model_file=final-model/100t-100n-IDS201X-LUCID.h5 \\\n",
    "  --output_file=/final-model/100t-100n-IDS201X-LUCID.tflite\n"
   ]
  },
  {
   "cell_type": "code",
   "execution_count": null,
   "metadata": {
    "id": "GxQpyY17J5pE",
    "scrolled": true
   },
   "outputs": [],
   "source": [
    "#test cicddos\n",
    "!python3 lucid_cnn.py --predict_live ./test-cicddos/SAT-01-12-2018_0500.pcap --model ./100t-100n-IDS201X-LUCID.tflite"
   ]
  },
  {
   "cell_type": "code",
   "execution_count": null,
   "metadata": {},
   "outputs": [],
   "source": [
    "#test swat benign\n",
    "!python3 lucid_cnn.py --predict_live ./test-swat/swat_benign.pcap --model ./100t-100n-IDS201X-LUCID.tflite"
   ]
  },
  {
   "cell_type": "code",
   "execution_count": null,
   "metadata": {},
   "outputs": [],
   "source": [
    "#test swat ddos\n",
    "!python3 lucid_cnn.py --predict_live ./test-swat/swat_attack.pcap --model ./100t-100n-IDS201X-LUCID.tflite"
   ]
  },
  {
   "cell_type": "code",
   "execution_count": null,
   "metadata": {},
   "outputs": [],
   "source": [
    "#test cicddos benign\n",
    "!python3 lucid_cnn.py --predict_live ./test-cicddos/cicddos_benign.pcap --model ./100t-100n-IDS201X-LUCID.tflite"
   ]
  },
  {
   "cell_type": "code",
   "execution_count": null,
   "metadata": {},
   "outputs": [],
   "source": [
    "#test cicddos attack\n",
    "!python3 lucid_cnn.py --predict_live ./test-cicddos/cicddos_attack.pcap --model ./100t-100n-IDS201X-LUCID.tflite"
   ]
  }
 ],
 "metadata": {
  "accelerator": "GPU",
  "colab": {
   "collapsed_sections": [],
   "name": "lucid.ipynb",
   "provenance": []
  },
  "gpuClass": "standard",
  "kernelspec": {
   "display_name": "Python 3",
   "language": "python",
   "name": "python3"
  },
  "language_info": {
   "codemirror_mode": {
    "name": "ipython",
    "version": 3
   },
   "file_extension": ".py",
   "mimetype": "text/x-python",
   "name": "python",
   "nbconvert_exporter": "python",
   "pygments_lexer": "ipython3",
   "version": "3.9.13"
  }
 },
 "nbformat": 4,
 "nbformat_minor": 1
}
